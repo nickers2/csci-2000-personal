#Nicky Lam-Hong
#100533285

import numpy as np
import matplotlib.pyplot as plt
import pylab
import matplotlib.patches as mpatches

#part a
ttemp = np.loadtxt('toronto_temperature_2012.dat')
mtemp = np.loadtxt('montreal_temperature_2012.dat')
vtemp = np.loadtxt('vancouver_temperature_2012.dat')

#part b
n = np.linspace(0,12,12,endpoint=True)
plt.plot(n,ttemp)
plt.plot(n,mtemp)
plt.plot(n,vtemp)

#part c
toronto = mpatches.Patch(color='blue',label='Toronto')
montreal = mpatches.Patch(color='green',label='Montreal')
vancouver = mpatches.Patch(color='red',label='Vancouver')
plt.legend(handles=[toronto,montreal,vancouver],bbox_to_anchor=(0.7, 0.5))



#part d and e
xlabels = ['Jan','Feb','Mar','Apr','May','Jun','Jul','Aug','Sep','Oct','Nov','Dec']
pylab.xlabel("Months")
pylab.ylabel("Average Temperature (Celsius)")
plt.xticks(n,xlabels)

#part f
pylab.title("2012 Average Monthly Temperatures (100533285)")

pylab.show()
plt.show()
