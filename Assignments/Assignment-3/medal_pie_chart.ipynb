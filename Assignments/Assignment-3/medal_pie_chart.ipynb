#Nicky Lam-Hong
#100533285

import numpy as np
import matplotlib.pyplot as plt

labels = 'USA','CHN','GBR','RUS','KOR','GER','FRA','ITA','HUN','AUS','OTHER'
sizes = [46, 38, 29, 24, 13, 11, 11, 8, 8, 7, 107]
colors = ['red','orange','yellow','green','blue','indigo','violet','gold','yellowgreen','lightcoral','lightskyblue']

plt.pie(sizes, labels=labels, colors=colors, startangle=133)
plt.axis('equal')
plt.title('2012 Olympic gold medals (100533285)',y=1.05)
plt.show()


