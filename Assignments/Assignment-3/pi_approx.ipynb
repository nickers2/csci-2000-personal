#Nicky Lam-Hong
#100533285

import numpy as np
np.seterr(invalid='ignore')

#10
k = np.arange(1,11)

a = (((-1)**(k+1))/(2*k-1))
b = (1/(k**2))
c = (1/(k**4))

P_10 = 4*sum(a)
T_10 = ((6*sum(b))**(1/2))
U_10 = ((90*sum(c))**(1/4))

print('When n = %7d, rho_n = %14.11f' % (10,P_10))  
print('When n = %7d, tau_n = %14.11f' % (10,T_10)) 
print('When n = %7d,  mu_n = %14.11f' % (10,U_10)) 
print('')

#100
k = np.arange(1,101)

a = (((-1)**(k+1))/(2*k-1))
b = (1/(k**2))
c = (1/(k**4))

P_100 = 4*sum(a)
T_100 = ((6*sum(b))**(1/2))
U_100 = ((90*sum(c))**(1/4))

print('When n = %7d, rho_n = %14.11f' % (100,P_100))
print('When n = %7d, tau_n = %14.11f' % (100,T_100))
print('When n = %7d,  mu_n = %14.11f' % (100,U_100))
print('')

#1000
k = np.arange(1,1001)

a = (((-1)**(k+1))/(2*k-1))
b = (1/(k**2))
c = (1/(k**4))

P_1000 = 4*sum(a)
T_1000 = ((6*sum(b))**(1/2))
U_1000 = ((90*sum(c))**(1/4))

print('When n = %7d, rho_n = %14.11f' % (1000,P_1000))
print('When n = %7d, tau_n = %14.11f' % (1000,T_1000))
print('When n = %7d,  mu_n = %14.11f' % (1000,U_1000))
print('')

#10000
k = np.arange(1,10001)

a = (((-1)**(k+1))/(2*k-1))
b = (1/(k**2))
c = (1/(k**4))

P_10000 = 4*sum(a)
T_10000 = ((6*sum(b))**(1/2))
U_10000 = ((90*sum(c))**(1/4))

print('When n = %7d, rho_n = %14.11f' % (10000,P_10000))
print('When n = %7d, tau_n = %14.11f' % (10000,T_10000))
print('When n = %7d,  mu_n = %14.11f' % (10000,U_10000))
print('')

#100000
k = np.arange(1,100001)

a = (((-1)**(k+1))/(2*k-1))
b = (1/(k**2))
c = (1/(k**4))

P_100000 = 4*sum(a)
T_100000 = ((6*sum(b))**(1/2))
U_100000 = ((90*sum(c))**(1/4))

print('When n = %7d, rho_n = %14.11f' % (100000,P_100000))
print('When n = %7d, tau_n = %14.11f' % (100000,T_100000))
print('When n = %7d,  mu_n = %14.11f' % (100000,U_100000))
print('')

#1000000
k = np.arange(1,1000001)

a = (((-1)**(k+1))/(2*k-1))
b = (1/(k**2))
c = (1/(k**4))

P_1000000 = 4*sum(a)
T_1000000 = ((6*sum(b))**(1/2))
U_1000000 = ((90*sum(c))**(1/4))

print('When n = %7d, rho_n = %14.11f' % (1000000,P_1000000))
print('When n = %7d, tau_n = %14.11f' % (1000000,T_1000000))
print('When n = %7d,  mu_n = %14.11f' % (1000000,U_1000000))
