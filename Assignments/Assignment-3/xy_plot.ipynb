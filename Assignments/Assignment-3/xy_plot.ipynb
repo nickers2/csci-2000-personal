#Nicky Lam-Hong
#100533285

import numpy as np
import matplotlib.pyplot as plt

#part a
n = np.loadtxt('xy_points.dat')

x = n[0,0:1000]
y = n[1,0:1000]

#part b
plt.scatter(x,y,color='red')

#part c

x1 = x[np.logical_and(x <-2, np.logical_and(y >= -5, y <= 0))]
y1 = y[np.logical_and(x <-2, np.logical_and(y >= -5, y <= 0))]

plt.scatter(x1,y1,color='blue')

#part d
x_c = 0
y_c = 5

r = ((x-x_c)**2 + (y-y_c)**2)**(0.5)

x2=x[r<5]
y2=y[r<5]

plt.scatter(x2,y2,color='lawngreen')

#part e
plt.xlim([-10,10])
plt.ylim([-10,10])

plt.axes().set_aspect('equal')

#part f
plt.title('Highlighted Points (100533285)')

plt.show()
