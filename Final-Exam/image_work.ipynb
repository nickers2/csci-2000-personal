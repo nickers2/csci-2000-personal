{
 "cells": [
  {
   "cell_type": "code",
   "execution_count": null,
   "metadata": {
    "collapsed": true
   },
   "outputs": [],
   "source": [
    "%matplotlib inline\n",
    "\n",
    "import numpy as np\n",
    "import matplotlib.pyplot as plt\n",
    "\n",
    "file = open('peppers.png', mode=\"r\") \n",
    "\n",
    "file.append('rgb_peppers')\n",
    "\n",
    "print(xyz, rgb_peppers)\n",
    "\n",
    "gray_peppers = rgb2gray(rgb_peppers)\n",
    "\n",
    "h = figure()\n",
    "\n",
    "plt.hist(gray_peppers,50)\n",
    "\n",
    "print(h,'peppers-histogram.png')\n",
    "\n",
    "print('The dimensions of the RGB image are 256 x 300 x 3')\n",
    "print('For the grayscale version of peppers.png')\n",
    "print('Minimum',?)\n",
    "print('Maximum',?)\n",
    "print('Median',?)\n"
   ]
  }
 ],
 "metadata": {
  "kernelspec": {
   "display_name": "Python 3",
   "language": "python",
   "name": "python3"
  },
  "language_info": {
   "codemirror_mode": {
    "name": "ipython",
    "version": 3
   },
   "file_extension": ".py",
   "mimetype": "text/x-python",
   "name": "python",
   "nbconvert_exporter": "python",
   "pygments_lexer": "ipython3",
   "version": "3.4.3"
  }
 },
 "nbformat": 4,
 "nbformat_minor": 0
}
