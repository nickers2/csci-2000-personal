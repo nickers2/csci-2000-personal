{
 "cells": [
  {
   "cell_type": "code",
   "execution_count": null,
   "metadata": {
    "collapsed": true
   },
   "outputs": [],
   "source": [
    "%matplotlib inline\n",
    "\n",
    "import numpy as np\n",
    "import matplotlib.pyplot as plt\n",
    "import pylab\n",
    "\n",
    "file = open('ISSN_D_tot.csv', mode=\"r\") \n",
    "\n",
    "temp = []\n",
    "line = file.readline()\n",
    "for v in line.split():\n",
    "    temp.append(float(v))\n",
    "\n",
    "a = np.array(temp)\n",
    "b = np.array(temp)\n",
    "c = np.array(temp)\n",
    "d = np.array(temp)\n",
    "e = np.array(temp)\n",
    "f = np.array(temp)\n",
    "\n",
    "file.close()\n",
    "\n",
    "n_bar = ?\n",
    "N = ?\n",
    "sd = ?\n",
    "\n",
    "f = figure()\n",
    "\n",
    "plt.plot(n_bar,N,sd)\n",
    "\n",
    "pylab.title(\"Daily sunspot observation (1818 to 2014)\")\n",
    "\n",
    "pylab.show()\n",
    "plt.show()\n",
    "\n",
    "print(f, 'sunspot_plot.png')\n",
    "\n"
   ]
  }
 ],
 "metadata": {
  "kernelspec": {
   "display_name": "Python 3",
   "language": "python",
   "name": "python3"
  },
  "language_info": {
   "codemirror_mode": {
    "name": "ipython",
    "version": 3
   },
   "file_extension": ".py",
   "mimetype": "text/x-python",
   "name": "python",
   "nbconvert_exporter": "python",
   "pygments_lexer": "ipython3",
   "version": "3.4.3"
  }
 },
 "nbformat": 4,
 "nbformat_minor": 0
}
