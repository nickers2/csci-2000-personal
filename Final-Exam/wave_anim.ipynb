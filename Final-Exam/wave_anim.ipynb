{
 "cells": [
  {
   "cell_type": "code",
   "execution_count": 3,
   "metadata": {
    "collapsed": false
   },
   "outputs": [
    {
     "ename": "SyntaxError",
     "evalue": "invalid syntax (<ipython-input-3-63b5ed6cd915>, line 18)",
     "output_type": "error",
     "traceback": [
      "\u001b[1;36m  File \u001b[1;32m\"<ipython-input-3-63b5ed6cd915>\"\u001b[1;36m, line \u001b[1;32m18\u001b[0m\n\u001b[1;33m    u = ((1.75*np.sin(x-20t))*i)\u001b[0m\n\u001b[1;37m                          ^\u001b[0m\n\u001b[1;31mSyntaxError\u001b[0m\u001b[1;31m:\u001b[0m invalid syntax\n"
     ]
    }
   ],
   "source": [
    "%matplotlib inline\n",
    "\n",
    "import numpy as np\n",
    "import matplotlib.pyplot as plt\n",
    "import matplotlib.animation as animation\n",
    "from JSAnimation.IPython_display import display_animation\n",
    "\n",
    "fig = plt.figure()\n",
    "ax = plt.axes(xlim=(-6, 6), ylim=(-2, 2))\n",
    "line, = ax.plot([], [], lw=2)\n",
    "t = np.arange[0:1]\n",
    "T = t/100\n",
    "\n",
    "def init1():\n",
    "    line.set_data([], [])\n",
    "    return line,\n",
    "\n",
    "def animate1(i):\n",
    "    x = np.linspace(0, 2, 1000)\n",
    "    u = ((1.75*np.sin(x-20*T))*i)\n",
    "    line.set_data(x, u)\n",
    "    return line\n",
    "\n",
    "#----------------------------\n",
    "\n",
    "def init2():\n",
    "    line.set_data([], [])\n",
    "    return line,\n",
    "\n",
    "def animate2(i):\n",
    "    x = np.linspace(0, 2, 1000)\n",
    "    u = ((1.8*exp(-2(x-12T+6)**2))*i)\n",
    "    line.set_data(x, u)\n",
    "    return line,"
   ]
  },
  {
   "cell_type": "code",
   "execution_count": null,
   "metadata": {
    "collapsed": true
   },
   "outputs": [],
   "source": []
  }
 ],
 "metadata": {
  "kernelspec": {
   "display_name": "Python 3",
   "language": "python",
   "name": "python3"
  },
  "language_info": {
   "codemirror_mode": {
    "name": "ipython",
    "version": 3
   },
   "file_extension": ".py",
   "mimetype": "text/x-python",
   "name": "python",
   "nbconvert_exporter": "python",
   "pygments_lexer": "ipython3",
   "version": "3.4.3"
  }
 },
 "nbformat": 4,
 "nbformat_minor": 0
}
